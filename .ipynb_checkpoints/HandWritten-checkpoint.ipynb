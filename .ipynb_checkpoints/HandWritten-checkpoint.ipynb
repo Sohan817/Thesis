{
 "cells": [
  {
   "cell_type": "code",
   "execution_count": 1,
   "id": "8654f4c4",
   "metadata": {},
   "outputs": [],
   "source": [
    "import numpy as np\n",
    "import pandas as pd\n",
    "import matplotlib.pyplot as plt\n",
    "from sklearn.model_selection import train_test_split\n",
    "from sklearn.preprocessing import StandardScaler\n",
    "import tensorflow as tf\n",
    "import os\n",
    "from imblearn.over_sampling import RandomOverSampler\n",
    "import glob"
   ]
  },
  {
   "cell_type": "code",
   "execution_count": 2,
   "id": "0fd1ae70",
   "metadata": {},
   "outputs": [],
   "source": [
    "akash_path1 = 'C:/Users/Sohan/Desktop/Thesis/data for handwritting recognation/Dr. Nasima Begum/Data/Akash/2019_5_7_15_15_56'\n",
    "akash_files1 = glob.glob(akash_path1+\"/*.csv\")"
   ]
  },
  {
   "cell_type": "code",
   "execution_count": null,
   "id": "8a9906fc",
   "metadata": {},
   "outputs": [],
   "source": []
  },
  {
   "cell_type": "code",
   "execution_count": 3,
   "id": "ba193413",
   "metadata": {},
   "outputs": [
    {
     "data": {
      "text/plain": [
       "['C:/Users/Sohan/Desktop/Thesis/data for handwritting recognation/Dr. Nasima Begum/Data/Akash/2019_5_7_15_15_56\\\\01_HelloWorld.csv',\n",
       " 'C:/Users/Sohan/Desktop/Thesis/data for handwritting recognation/Dr. Nasima Begum/Data/Akash/2019_5_7_15_15_56\\\\02_Japan.csv',\n",
       " 'C:/Users/Sohan/Desktop/Thesis/data for handwritting recognation/Dr. Nasima Begum/Data/Akash/2019_5_7_15_15_56\\\\03_Tokyo.csv',\n",
       " 'C:/Users/Sohan/Desktop/Thesis/data for handwritting recognation/Dr. Nasima Begum/Data/Akash/2019_5_7_15_15_56\\\\04_Fukushima.csv',\n",
       " 'C:/Users/Sohan/Desktop/Thesis/data for handwritting recognation/Dr. Nasima Begum/Data/Akash/2019_5_7_15_15_56\\\\05_AizuUniversity.csv',\n",
       " 'C:/Users/Sohan/Desktop/Thesis/data for handwritting recognation/Dr. Nasima Begum/Data/Akash/2019_5_7_15_15_56\\\\06_BasicResearch.csv',\n",
       " 'C:/Users/Sohan/Desktop/Thesis/data for handwritting recognation/Dr. Nasima Begum/Data/Akash/2019_5_7_15_15_56\\\\07_ComputerVision.csv',\n",
       " 'C:/Users/Sohan/Desktop/Thesis/data for handwritting recognation/Dr. Nasima Begum/Data/Akash/2019_5_7_15_15_56\\\\08_PatternProcessing.csv',\n",
       " 'C:/Users/Sohan/Desktop/Thesis/data for handwritting recognation/Dr. Nasima Begum/Data/Akash/2019_5_7_15_15_56\\\\09_MachineLearning.csv',\n",
       " 'C:/Users/Sohan/Desktop/Thesis/data for handwritting recognation/Dr. Nasima Begum/Data/Akash/2019_5_7_15_15_56\\\\10_ThankYou.csv']"
      ]
     },
     "execution_count": 3,
     "metadata": {},
     "output_type": "execute_result"
    }
   ],
   "source": [
    "akash_files1"
   ]
  },
  {
   "cell_type": "code",
   "execution_count": 4,
   "id": "acbdcb40",
   "metadata": {},
   "outputs": [],
   "source": [
    "akash_li1=[]"
   ]
  },
  {
   "cell_type": "code",
   "execution_count": 5,
   "id": "f6ad0d2b",
   "metadata": {},
   "outputs": [
    {
     "ename": "NameError",
     "evalue": "name 'akash_all_files1' is not defined",
     "output_type": "error",
     "traceback": [
      "\u001b[1;31m---------------------------------------------------------------------------\u001b[0m",
      "\u001b[1;31mNameError\u001b[0m                                 Traceback (most recent call last)",
      "Input \u001b[1;32mIn [5]\u001b[0m, in \u001b[0;36m<cell line: 1>\u001b[1;34m()\u001b[0m\n\u001b[1;32m----> 1\u001b[0m \u001b[38;5;28;01mfor\u001b[39;00m akash_filename1 \u001b[38;5;129;01min\u001b[39;00m \u001b[43makash_all_files1\u001b[49m:\n\u001b[0;32m      2\u001b[0m     df1\u001b[38;5;241m=\u001b[39mpd\u001b[38;5;241m.\u001b[39mread_csv(akash_filename1 , index_col\u001b[38;5;241m=\u001b[39m\u001b[38;5;28;01mNone\u001b[39;00m,header\u001b[38;5;241m=\u001b[39m\u001b[38;5;241m0\u001b[39m)\n\u001b[0;32m      3\u001b[0m     akash_li1\u001b[38;5;241m.\u001b[39mappend(akash_df1)\n",
      "\u001b[1;31mNameError\u001b[0m: name 'akash_all_files1' is not defined"
     ]
    }
   ],
   "source": [
    "for akash_filename1 in akash_all_files1:\n",
    "    df1=pd.read_csv(akash_filename1 , index_col=None,header=0)\n",
    "    akash_li1.append(akash_df1)"
   ]
  },
  {
   "cell_type": "code",
   "execution_count": null,
   "id": "40b4764f",
   "metadata": {},
   "outputs": [],
   "source": [
    "akssh_df1=np.vstack((akash_li1))\n",
    "akash_df1"
   ]
  },
  {
   "cell_type": "code",
   "execution_count": null,
   "id": "c3f83b76",
   "metadata": {},
   "outputs": [],
   "source": [
    "akash_path2 = 'C:/Users/Sohan/Desktop/Thesis/data for handwritting recognation/Dr. Nasima Begum/Data/Akash/2019_5_7_15_23_34'\n",
    "akash_all_files2 = glob.glob(akash_path2+\"/*.csv\")"
   ]
  },
  {
   "cell_type": "code",
   "execution_count": null,
   "id": "57783e4c",
   "metadata": {},
   "outputs": [],
   "source": [
    "akash_all_files2"
   ]
  },
  {
   "cell_type": "code",
   "execution_count": null,
   "id": "12bdda49",
   "metadata": {},
   "outputs": [],
   "source": [
    "akash_li2=[]"
   ]
  },
  {
   "cell_type": "code",
   "execution_count": null,
   "id": "516a02ab",
   "metadata": {},
   "outputs": [],
   "source": [
    "for akash_filename2 in akash_all_files2:\n",
    "    akash_df2=pd.read_csv(akash_filename2 , index_col=None,header=0)\n",
    "    akash_li2.append(akash_df2)"
   ]
  },
  {
   "cell_type": "code",
   "execution_count": null,
   "id": "56c7c0e6",
   "metadata": {},
   "outputs": [],
   "source": [
    "akash_df2=np.vstack((li2))"
   ]
  },
  {
   "cell_type": "code",
   "execution_count": null,
   "id": "39e8b1fb",
   "metadata": {},
   "outputs": [],
   "source": [
    "akash_df2"
   ]
  },
  {
   "cell_type": "code",
   "execution_count": null,
   "id": "5913e815",
   "metadata": {},
   "outputs": [],
   "source": [
    "akash_path3 = 'C:/Users/Sohan/Desktop/Thesis/data for handwritting recognation/Dr. Nasima Begum/Data/Akash/2019_5_7_15_26_26'\n",
    "akash_all_files3 = glob.glob(akash_path3+\"/*.csv\")"
   ]
  },
  {
   "cell_type": "code",
   "execution_count": null,
   "id": "446faea5",
   "metadata": {},
   "outputs": [],
   "source": [
    "akash_all_files3"
   ]
  },
  {
   "cell_type": "code",
   "execution_count": null,
   "id": "58c56a2c",
   "metadata": {},
   "outputs": [],
   "source": [
    "akash_li3=[]"
   ]
  },
  {
   "cell_type": "code",
   "execution_count": null,
   "id": "f9db81fe",
   "metadata": {},
   "outputs": [],
   "source": [
    "for akash_filename3 in akash_all_files3:\n",
    "    akash_df3=pd.read_csv(akash_filename3 , index_col=None,header=0)\n",
    "    akash_li3.append(akash_df3)"
   ]
  },
  {
   "cell_type": "code",
   "execution_count": null,
   "id": "8758e058",
   "metadata": {},
   "outputs": [],
   "source": [
    "akash_df3=np.vstack((li3))"
   ]
  },
  {
   "cell_type": "code",
   "execution_count": null,
   "id": "3f025994",
   "metadata": {},
   "outputs": [],
   "source": [
    "akash_df3"
   ]
  },
  {
   "cell_type": "code",
   "execution_count": null,
   "id": "600f90f7",
   "metadata": {},
   "outputs": [],
   "source": [
    "akash_path4 = 'C:/Users/Sohan/Desktop/Thesis/data for handwritting recognation/Dr. Nasima Begum/Data/Akash/2019_5_7_15_28_34'\n",
    "akash_all_files4 = glob.glob(akash_path4+\"/*.csv\")"
   ]
  },
  {
   "cell_type": "code",
   "execution_count": null,
   "id": "54d687c4",
   "metadata": {},
   "outputs": [],
   "source": [
    "akash_all_files4"
   ]
  },
  {
   "cell_type": "code",
   "execution_count": null,
   "id": "88605b22",
   "metadata": {},
   "outputs": [],
   "source": [
    "akash_li4=[]"
   ]
  },
  {
   "cell_type": "code",
   "execution_count": null,
   "id": "e9a695eb",
   "metadata": {},
   "outputs": [],
   "source": [
    "for akash_filename4 in akash_all_files4:\n",
    "    akash_df4=pd.read_csv(akash_filename4 , index_col=None,header=0)\n",
    "    akash_li4.append(akash_df4)"
   ]
  },
  {
   "cell_type": "code",
   "execution_count": null,
   "id": "16431771",
   "metadata": {},
   "outputs": [],
   "source": [
    "akash_df4=np.vstack((akash_li4))"
   ]
  },
  {
   "cell_type": "code",
   "execution_count": null,
   "id": "2f3d17f9",
   "metadata": {},
   "outputs": [],
   "source": [
    "akash_df4"
   ]
  },
  {
   "cell_type": "code",
   "execution_count": null,
   "id": "cf711733",
   "metadata": {},
   "outputs": [],
   "source": [
    "akash_path5 = 'C:/Users/Sohan/Desktop/Thesis/data for handwritting recognation/Dr. Nasima Begum/Data/Akash/2019_5_7_15_30_42'\n",
    "akash_all_files5 = glob.glob(akash_path5+\"/*.csv\")"
   ]
  },
  {
   "cell_type": "code",
   "execution_count": null,
   "id": "e66ff4f5",
   "metadata": {},
   "outputs": [],
   "source": [
    "akash_all_files5"
   ]
  },
  {
   "cell_type": "code",
   "execution_count": null,
   "id": "4c244ee9",
   "metadata": {},
   "outputs": [],
   "source": [
    "akash_li5=[]"
   ]
  },
  {
   "cell_type": "code",
   "execution_count": null,
   "id": "3fe74197",
   "metadata": {},
   "outputs": [],
   "source": [
    "for akash_filename5 in akash_all_files5:\n",
    "    akash_df5=pd.read_csv(akash_filename5 , index_col=None,header=0)\n",
    "    akash_li5.append(akash_df5)"
   ]
  },
  {
   "cell_type": "code",
   "execution_count": null,
   "id": "ed6785c8",
   "metadata": {},
   "outputs": [],
   "source": [
    "akash_df5=np.vstack((li5))\n",
    "akash_df5"
   ]
  },
  {
   "cell_type": "code",
   "execution_count": null,
   "id": "9dba32c9",
   "metadata": {},
   "outputs": [],
   "source": [
    "akash_df=np.vstack((df1,df2,df3,df4,df5))"
   ]
  },
  {
   "cell_type": "code",
   "execution_count": null,
   "id": "53747c18",
   "metadata": {},
   "outputs": [],
   "source": [
    "akash_df"
   ]
  },
  {
   "cell_type": "code",
   "execution_count": null,
   "id": "b9ac644b",
   "metadata": {},
   "outputs": [],
   "source": [
    "akash_df.shape"
   ]
  },
  {
   "cell_type": "code",
   "execution_count": null,
   "id": "b9abd5c1",
   "metadata": {},
   "outputs": [],
   "source": [
    "akash_df_y = np.zeros(29396).T"
   ]
  },
  {
   "cell_type": "code",
   "execution_count": null,
   "id": "1ba980b2",
   "metadata": {},
   "outputs": [],
   "source": [
    "akash_df_y = df_y.reshape(29396, 1)"
   ]
  },
  {
   "cell_type": "code",
   "execution_count": null,
   "id": "96cc1137",
   "metadata": {},
   "outputs": [],
   "source": [
    "akash_df_y.shape"
   ]
  },
  {
   "cell_type": "code",
   "execution_count": null,
   "id": "8f89f8c8",
   "metadata": {},
   "outputs": [],
   "source": [
    "akash_data = np.append(df, df_y, axis=1)"
   ]
  },
  {
   "cell_type": "code",
   "execution_count": null,
   "id": "530feab4",
   "metadata": {},
   "outputs": [],
   "source": [
    "akash_data.shape"
   ]
  },
  {
   "cell_type": "code",
   "execution_count": null,
   "id": "a4fd87c5",
   "metadata": {},
   "outputs": [],
   "source": [
    "akash_data"
   ]
  },
  {
   "cell_type": "code",
   "execution_count": null,
   "id": "bc747ebc",
   "metadata": {},
   "outputs": [],
   "source": [
    "akash_data_df = pd.DataFrame(akash_data, columns = ['Time',' Pen_prassure','X_Axis','Y_Axis','Horaizontal_Angle','Verticle_Angle','output'])"
   ]
  },
  {
   "cell_type": "code",
   "execution_count": null,
   "id": "78aa852b",
   "metadata": {},
   "outputs": [],
   "source": [
    "for i in range(len(akash_data_df.columns[:-1])):\n",
    "  label = akash_data_df.columns[i]\n",
    "  plt.hist(akash_data_df[akash_data_df['output']==0][label], color='red', alpha=0.7, density=True, bins=15)\n",
    "  plt.title(label)\n",
    "  plt.ylabel(\"Probability\")\n",
    "  plt.xlabel(label)\n",
    "  plt.legend()\n",
    "  plt.show()"
   ]
  },
  {
   "cell_type": "code",
   "execution_count": null,
   "id": "495afcb9",
   "metadata": {},
   "outputs": [],
   "source": [
    "X= akash_data_df[akash_data_df.columns[:-1]].values\n",
    "Y= akash_data_df[akash_data_df.columns[-1]].values"
   ]
  },
  {
   "cell_type": "code",
   "execution_count": null,
   "id": "fe196bf2",
   "metadata": {},
   "outputs": [],
   "source": [
    "scaler=StandardScaler()\n",
    "X=scaler.fit_transform(X)\n",
    "data=np.hstack((X,np.reshape(Y,(-1,1))))\n",
    "transformed_df=pd.DataFrame(data,columns=akash_data_df.columns)"
   ]
  },
  {
   "cell_type": "code",
   "execution_count": null,
   "id": "65ceeafe",
   "metadata": {},
   "outputs": [],
   "source": [
    "x_train,x_temp,y_train,y_temp = train_test_split(X,Y,test_size=0.4,random_state=0)\n",
    "x_valid,x_test,y_valid,y_test = train_test_split(x_temp,y_temp,test_size=0.4,random_state=0)"
   ]
  },
  {
   "cell_type": "code",
   "execution_count": null,
   "id": "e905eae0",
   "metadata": {},
   "outputs": [],
   "source": [
    "model = tf.keras.Sequential([tf.keras.layers.Dense(16,activation='relu'),\n",
    "                            tf.keras.layers.Dense(16,activation='relu'),\n",
    "                            tf.keras.layers.Dense(1,activation=\"sigmoid\")])"
   ]
  },
  {
   "cell_type": "code",
   "execution_count": null,
   "id": "b3ff3bca",
   "metadata": {},
   "outputs": [],
   "source": [
    "model.compile(optimizer=tf.keras.optimizers.Adam(learning_rate=0.001),\n",
    "              loss=tf.keras.losses.BinaryCrossentropy(),\n",
    "              metrics=['accuracy']\n",
    "             )"
   ]
  },
  {
   "cell_type": "code",
   "execution_count": null,
   "id": "22ca79ad",
   "metadata": {},
   "outputs": [],
   "source": [
    "model.fit(x_train,y_train,batch_size=16,epochs=20,validation_data=(x_valid,y_valid))"
   ]
  },
  {
   "cell_type": "code",
   "execution_count": null,
   "id": "934ad081",
   "metadata": {},
   "outputs": [],
   "source": [
    "model.evaluate(x_train,y_train)"
   ]
  },
  {
   "cell_type": "code",
   "execution_count": null,
   "id": "282691b5",
   "metadata": {},
   "outputs": [],
   "source": [
    "loss, accuracy = model.evaluate(x_test,y_test)"
   ]
  },
  {
   "cell_type": "code",
   "execution_count": null,
   "id": "4014b978",
   "metadata": {},
   "outputs": [],
   "source": [
    "pred_labels = model.predict(x_test)"
   ]
  },
  {
   "cell_type": "code",
   "execution_count": null,
   "id": "1e9b76d2",
   "metadata": {},
   "outputs": [],
   "source": [
    "pred_labels[2]"
   ]
  },
  {
   "cell_type": "code",
   "execution_count": null,
   "id": "77c34ac0",
   "metadata": {},
   "outputs": [],
   "source": [
    "np.argmax(pred_labels[88])"
   ]
  },
  {
   "cell_type": "code",
   "execution_count": null,
   "id": "18096064",
   "metadata": {},
   "outputs": [],
   "source": [
    "print(\"Model Accuracy for Akash %.2f%%\" %(accuracy * 100))"
   ]
  },
  {
   "cell_type": "code",
   "execution_count": null,
   "id": "7681f1f5",
   "metadata": {},
   "outputs": [],
   "source": []
  }
 ],
 "metadata": {
  "kernelspec": {
   "display_name": "Python 3 (ipykernel)",
   "language": "python",
   "name": "python3"
  },
  "language_info": {
   "codemirror_mode": {
    "name": "ipython",
    "version": 3
   },
   "file_extension": ".py",
   "mimetype": "text/x-python",
   "name": "python",
   "nbconvert_exporter": "python",
   "pygments_lexer": "ipython3",
   "version": "3.9.12"
  }
 },
 "nbformat": 4,
 "nbformat_minor": 5
}
