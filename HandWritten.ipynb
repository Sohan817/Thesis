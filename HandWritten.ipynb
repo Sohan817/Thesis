{
 "cells": [
  {
   "cell_type": "code",
   "execution_count": 484,
   "id": "8654f4c4",
   "metadata": {},
   "outputs": [],
   "source": [
    "import numpy as np\n",
    "import pandas as pd\n",
    "import matplotlib.pyplot as plt\n",
    "from sklearn.model_selection import train_test_split\n",
    "from sklearn.preprocessing import StandardScaler\n",
    "import tensorflow as tf\n",
    "import os\n",
    "from imblearn.over_sampling import RandomOverSampler\n",
    "import glob"
   ]
  },
  {
   "cell_type": "code",
   "execution_count": 485,
   "id": "8a9906fc",
   "metadata": {},
   "outputs": [],
   "source": [
    "path1 = 'C:/Users/Sohan/Desktop/Thesis/data for handwritting recognation/Dr. Nasima Begum/Data/Akash/2019_5_7_15_15_56'\n",
    "all_files1 = glob.glob(path1+\"/*.csv\")"
   ]
  },
  {
   "cell_type": "code",
   "execution_count": 486,
   "id": "ba193413",
   "metadata": {},
   "outputs": [
    {
     "data": {
      "text/plain": [
       "['C:/Users/Sohan/Desktop/Thesis/data for handwritting recognation/Dr. Nasima Begum/Data/Akash/2019_5_7_15_15_56\\\\01_HelloWorld.csv',\n",
       " 'C:/Users/Sohan/Desktop/Thesis/data for handwritting recognation/Dr. Nasima Begum/Data/Akash/2019_5_7_15_15_56\\\\02_Japan.csv',\n",
       " 'C:/Users/Sohan/Desktop/Thesis/data for handwritting recognation/Dr. Nasima Begum/Data/Akash/2019_5_7_15_15_56\\\\03_Tokyo.csv',\n",
       " 'C:/Users/Sohan/Desktop/Thesis/data for handwritting recognation/Dr. Nasima Begum/Data/Akash/2019_5_7_15_15_56\\\\04_Fukushima.csv',\n",
       " 'C:/Users/Sohan/Desktop/Thesis/data for handwritting recognation/Dr. Nasima Begum/Data/Akash/2019_5_7_15_15_56\\\\05_AizuUniversity.csv',\n",
       " 'C:/Users/Sohan/Desktop/Thesis/data for handwritting recognation/Dr. Nasima Begum/Data/Akash/2019_5_7_15_15_56\\\\06_BasicResearch.csv',\n",
       " 'C:/Users/Sohan/Desktop/Thesis/data for handwritting recognation/Dr. Nasima Begum/Data/Akash/2019_5_7_15_15_56\\\\07_ComputerVision.csv',\n",
       " 'C:/Users/Sohan/Desktop/Thesis/data for handwritting recognation/Dr. Nasima Begum/Data/Akash/2019_5_7_15_15_56\\\\08_PatternProcessing.csv',\n",
       " 'C:/Users/Sohan/Desktop/Thesis/data for handwritting recognation/Dr. Nasima Begum/Data/Akash/2019_5_7_15_15_56\\\\09_MachineLearning.csv',\n",
       " 'C:/Users/Sohan/Desktop/Thesis/data for handwritting recognation/Dr. Nasima Begum/Data/Akash/2019_5_7_15_15_56\\\\10_ThankYou.csv']"
      ]
     },
     "execution_count": 486,
     "metadata": {},
     "output_type": "execute_result"
    }
   ],
   "source": [
    "all_files1"
   ]
  },
  {
   "cell_type": "code",
   "execution_count": 487,
   "id": "acbdcb40",
   "metadata": {},
   "outputs": [],
   "source": [
    "li1=[]"
   ]
  },
  {
   "cell_type": "code",
   "execution_count": 488,
   "id": "f6ad0d2b",
   "metadata": {},
   "outputs": [],
   "source": [
    "for filename1 in all_files1:\n",
    "    df1=pd.read_csv(filename1 , index_col=None,header=0)\n",
    "    li1.append(df1)"
   ]
  },
  {
   "cell_type": "code",
   "execution_count": 489,
   "id": "40b4764f",
   "metadata": {},
   "outputs": [
    {
     "data": {
      "text/plain": [
       "array([[ 3384.91, 18184.  ,   275.  ,  1225.  ,   155.  ,   410.  ],\n",
       "       [ 3392.91, 18312.  ,   275.  ,  1225.  ,   156.  ,   410.  ],\n",
       "       [ 3399.97, 18984.  ,   275.  ,  1225.  ,   156.  ,   420.  ],\n",
       "       ...,\n",
       "       [ 6687.55, 13013.  ,   892.  ,  1202.  ,   183.  ,   460.  ],\n",
       "       [ 6694.58,  9460.  ,   891.  ,  1202.  ,   183.  ,   460.  ],\n",
       "       [ 6702.5 ,  4081.  ,   890.  ,  1202.  ,   183.  ,   460.  ]])"
      ]
     },
     "execution_count": 489,
     "metadata": {},
     "output_type": "execute_result"
    }
   ],
   "source": [
    "df1=np.vstack((li1))\n",
    "df1"
   ]
  },
  {
   "cell_type": "code",
   "execution_count": 490,
   "id": "c3f83b76",
   "metadata": {},
   "outputs": [],
   "source": [
    "path2 = 'C:/Users/Sohan/Desktop/Thesis/data for handwritting recognation/Dr. Nasima Begum/Data/Akash/2019_5_7_15_23_34'\n",
    "all_files2 = glob.glob(path2+\"/*.csv\")"
   ]
  },
  {
   "cell_type": "code",
   "execution_count": 491,
   "id": "57783e4c",
   "metadata": {},
   "outputs": [
    {
     "data": {
      "text/plain": [
       "['C:/Users/Sohan/Desktop/Thesis/data for handwritting recognation/Dr. Nasima Begum/Data/Akash/2019_5_7_15_23_34\\\\01_HelloWorld.csv',\n",
       " 'C:/Users/Sohan/Desktop/Thesis/data for handwritting recognation/Dr. Nasima Begum/Data/Akash/2019_5_7_15_23_34\\\\02_Japan.csv',\n",
       " 'C:/Users/Sohan/Desktop/Thesis/data for handwritting recognation/Dr. Nasima Begum/Data/Akash/2019_5_7_15_23_34\\\\03_Tokyo.csv',\n",
       " 'C:/Users/Sohan/Desktop/Thesis/data for handwritting recognation/Dr. Nasima Begum/Data/Akash/2019_5_7_15_23_34\\\\04_Fukushima.csv',\n",
       " 'C:/Users/Sohan/Desktop/Thesis/data for handwritting recognation/Dr. Nasima Begum/Data/Akash/2019_5_7_15_23_34\\\\05_AizuUniversity.csv',\n",
       " 'C:/Users/Sohan/Desktop/Thesis/data for handwritting recognation/Dr. Nasima Begum/Data/Akash/2019_5_7_15_23_34\\\\06_BasicResearch.csv',\n",
       " 'C:/Users/Sohan/Desktop/Thesis/data for handwritting recognation/Dr. Nasima Begum/Data/Akash/2019_5_7_15_23_34\\\\07_ComputerVision.csv',\n",
       " 'C:/Users/Sohan/Desktop/Thesis/data for handwritting recognation/Dr. Nasima Begum/Data/Akash/2019_5_7_15_23_34\\\\08_PatternProcessing.csv',\n",
       " 'C:/Users/Sohan/Desktop/Thesis/data for handwritting recognation/Dr. Nasima Begum/Data/Akash/2019_5_7_15_23_34\\\\09_MachineLearning.csv',\n",
       " 'C:/Users/Sohan/Desktop/Thesis/data for handwritting recognation/Dr. Nasima Begum/Data/Akash/2019_5_7_15_23_34\\\\10_ThankYou.csv']"
      ]
     },
     "execution_count": 491,
     "metadata": {},
     "output_type": "execute_result"
    }
   ],
   "source": [
    "all_files2"
   ]
  },
  {
   "cell_type": "code",
   "execution_count": 492,
   "id": "12bdda49",
   "metadata": {},
   "outputs": [],
   "source": [
    "li2=[]"
   ]
  },
  {
   "cell_type": "code",
   "execution_count": 493,
   "id": "516a02ab",
   "metadata": {},
   "outputs": [],
   "source": [
    "for filename2 in all_files2:\n",
    "    df2=pd.read_csv(filename2 , index_col=None,header=0)\n",
    "    li2.append(df2)"
   ]
  },
  {
   "cell_type": "code",
   "execution_count": 494,
   "id": "56c7c0e6",
   "metadata": {},
   "outputs": [],
   "source": [
    "df2=np.vstack((li2))"
   ]
  },
  {
   "cell_type": "code",
   "execution_count": 495,
   "id": "39e8b1fb",
   "metadata": {},
   "outputs": [
    {
     "data": {
      "text/plain": [
       "array([[ 6151.46,  8707.  ,   346.  ,  1214.  ,   160.  ,   420.  ],\n",
       "       [ 6159.44, 15671.  ,   346.  ,  1214.  ,   161.  ,   420.  ],\n",
       "       [ 6166.47, 15847.  ,   346.  ,  1214.  ,   160.  ,   430.  ],\n",
       "       ...,\n",
       "       [ 5472.81, 22138.  ,  1075.  ,  1113.  ,   193.  ,   390.  ],\n",
       "       [ 5479.62, 17415.  ,  1075.  ,  1113.  ,   194.  ,   390.  ],\n",
       "       [ 5487.84,  5282.  ,  1087.  ,  1114.  ,   194.  ,   390.  ]])"
      ]
     },
     "execution_count": 495,
     "metadata": {},
     "output_type": "execute_result"
    }
   ],
   "source": [
    "df2"
   ]
  },
  {
   "cell_type": "code",
   "execution_count": 496,
   "id": "5913e815",
   "metadata": {},
   "outputs": [],
   "source": [
    "path3 = 'C:/Users/Sohan/Desktop/Thesis/data for handwritting recognation/Dr. Nasima Begum/Data/Akash/2019_5_7_15_26_26'\n",
    "all_files3 = glob.glob(path3+\"/*.csv\")"
   ]
  },
  {
   "cell_type": "code",
   "execution_count": 497,
   "id": "446faea5",
   "metadata": {},
   "outputs": [
    {
     "data": {
      "text/plain": [
       "['C:/Users/Sohan/Desktop/Thesis/data for handwritting recognation/Dr. Nasima Begum/Data/Akash/2019_5_7_15_26_26\\\\01_HelloWorld.csv',\n",
       " 'C:/Users/Sohan/Desktop/Thesis/data for handwritting recognation/Dr. Nasima Begum/Data/Akash/2019_5_7_15_26_26\\\\02_Japan.csv',\n",
       " 'C:/Users/Sohan/Desktop/Thesis/data for handwritting recognation/Dr. Nasima Begum/Data/Akash/2019_5_7_15_26_26\\\\03_Tokyo.csv',\n",
       " 'C:/Users/Sohan/Desktop/Thesis/data for handwritting recognation/Dr. Nasima Begum/Data/Akash/2019_5_7_15_26_26\\\\04_Fukushima.csv',\n",
       " 'C:/Users/Sohan/Desktop/Thesis/data for handwritting recognation/Dr. Nasima Begum/Data/Akash/2019_5_7_15_26_26\\\\05_AizuUniversity.csv',\n",
       " 'C:/Users/Sohan/Desktop/Thesis/data for handwritting recognation/Dr. Nasima Begum/Data/Akash/2019_5_7_15_26_26\\\\06_BasicResearch.csv',\n",
       " 'C:/Users/Sohan/Desktop/Thesis/data for handwritting recognation/Dr. Nasima Begum/Data/Akash/2019_5_7_15_26_26\\\\07_ComputerVision.csv',\n",
       " 'C:/Users/Sohan/Desktop/Thesis/data for handwritting recognation/Dr. Nasima Begum/Data/Akash/2019_5_7_15_26_26\\\\08_PatternProcessing.csv',\n",
       " 'C:/Users/Sohan/Desktop/Thesis/data for handwritting recognation/Dr. Nasima Begum/Data/Akash/2019_5_7_15_26_26\\\\09_MachineLearning.csv',\n",
       " 'C:/Users/Sohan/Desktop/Thesis/data for handwritting recognation/Dr. Nasima Begum/Data/Akash/2019_5_7_15_26_26\\\\10_ThankYou.csv']"
      ]
     },
     "execution_count": 497,
     "metadata": {},
     "output_type": "execute_result"
    }
   ],
   "source": [
    "all_files3"
   ]
  },
  {
   "cell_type": "code",
   "execution_count": 498,
   "id": "58c56a2c",
   "metadata": {},
   "outputs": [],
   "source": [
    "li3=[]"
   ]
  },
  {
   "cell_type": "code",
   "execution_count": 499,
   "id": "f9db81fe",
   "metadata": {},
   "outputs": [],
   "source": [
    "for filename3 in all_files3:\n",
    "    df3=pd.read_csv(filename3 , index_col=None,header=0)\n",
    "    li3.append(df3)"
   ]
  },
  {
   "cell_type": "code",
   "execution_count": 500,
   "id": "8758e058",
   "metadata": {},
   "outputs": [],
   "source": [
    "df3=np.vstack((li3))"
   ]
  },
  {
   "cell_type": "code",
   "execution_count": 501,
   "id": "3f025994",
   "metadata": {},
   "outputs": [
    {
     "data": {
      "text/plain": [
       "array([[ 5493.14, 15655.  ,   213.  ,  1275.  ,   156.  ,   510.  ],\n",
       "       [ 5501.07, 15687.  ,   213.  ,  1275.  ,   157.  ,   500.  ],\n",
       "       [ 5509.11, 15575.  ,   213.  ,  1275.  ,   159.  ,   490.  ],\n",
       "       ...,\n",
       "       [ 5531.35, 23114.  ,   865.  ,  1120.  ,   185.  ,   440.  ],\n",
       "       [ 5539.4 , 17576.  ,   875.  ,  1121.  ,   187.  ,   440.  ],\n",
       "       [ 5547.09,  7059.  ,   886.  ,  1123.  ,   188.  ,   440.  ]])"
      ]
     },
     "execution_count": 501,
     "metadata": {},
     "output_type": "execute_result"
    }
   ],
   "source": [
    "df3"
   ]
  },
  {
   "cell_type": "code",
   "execution_count": 502,
   "id": "600f90f7",
   "metadata": {},
   "outputs": [],
   "source": [
    "path4 = 'C:/Users/Sohan/Desktop/Thesis/data for handwritting recognation/Dr. Nasima Begum/Data/Akash/2019_5_7_15_28_34'\n",
    "all_files4 = glob.glob(path4+\"/*.csv\")"
   ]
  },
  {
   "cell_type": "code",
   "execution_count": 503,
   "id": "54d687c4",
   "metadata": {},
   "outputs": [
    {
     "data": {
      "text/plain": [
       "['C:/Users/Sohan/Desktop/Thesis/data for handwritting recognation/Dr. Nasima Begum/Data/Akash/2019_5_7_15_28_34\\\\01_HelloWorld.csv',\n",
       " 'C:/Users/Sohan/Desktop/Thesis/data for handwritting recognation/Dr. Nasima Begum/Data/Akash/2019_5_7_15_28_34\\\\02_Japan.csv',\n",
       " 'C:/Users/Sohan/Desktop/Thesis/data for handwritting recognation/Dr. Nasima Begum/Data/Akash/2019_5_7_15_28_34\\\\03_Tokyo.csv',\n",
       " 'C:/Users/Sohan/Desktop/Thesis/data for handwritting recognation/Dr. Nasima Begum/Data/Akash/2019_5_7_15_28_34\\\\04_Fukushima.csv',\n",
       " 'C:/Users/Sohan/Desktop/Thesis/data for handwritting recognation/Dr. Nasima Begum/Data/Akash/2019_5_7_15_28_34\\\\05_AizuUniversity.csv',\n",
       " 'C:/Users/Sohan/Desktop/Thesis/data for handwritting recognation/Dr. Nasima Begum/Data/Akash/2019_5_7_15_28_34\\\\06_BasicResearch.csv',\n",
       " 'C:/Users/Sohan/Desktop/Thesis/data for handwritting recognation/Dr. Nasima Begum/Data/Akash/2019_5_7_15_28_34\\\\07_ComputerVision.csv',\n",
       " 'C:/Users/Sohan/Desktop/Thesis/data for handwritting recognation/Dr. Nasima Begum/Data/Akash/2019_5_7_15_28_34\\\\08_PatternProcessing.csv',\n",
       " 'C:/Users/Sohan/Desktop/Thesis/data for handwritting recognation/Dr. Nasima Begum/Data/Akash/2019_5_7_15_28_34\\\\09_MachineLearning.csv',\n",
       " 'C:/Users/Sohan/Desktop/Thesis/data for handwritting recognation/Dr. Nasima Begum/Data/Akash/2019_5_7_15_28_34\\\\10_ThankYou.csv']"
      ]
     },
     "execution_count": 503,
     "metadata": {},
     "output_type": "execute_result"
    }
   ],
   "source": [
    "all_files4"
   ]
  },
  {
   "cell_type": "code",
   "execution_count": 504,
   "id": "88605b22",
   "metadata": {},
   "outputs": [],
   "source": [
    "li4=[]"
   ]
  },
  {
   "cell_type": "code",
   "execution_count": 505,
   "id": "e9a695eb",
   "metadata": {},
   "outputs": [],
   "source": [
    "for filename4 in all_files4:\n",
    "    df4=pd.read_csv(filename4 , index_col=None,header=0)\n",
    "    li4.append(df4)"
   ]
  },
  {
   "cell_type": "code",
   "execution_count": 506,
   "id": "16431771",
   "metadata": {},
   "outputs": [],
   "source": [
    "df4=np.vstack((li4))"
   ]
  },
  {
   "cell_type": "code",
   "execution_count": 507,
   "id": "2f3d17f9",
   "metadata": {},
   "outputs": [
    {
     "data": {
      "text/plain": [
       "array([[ 7511.18, 19352.  ,   296.  ,  1193.  ,   157.  ,   470.  ],\n",
       "       [ 7518.2 , 19673.  ,   296.  ,  1193.  ,   158.  ,   470.  ],\n",
       "       [ 7526.15, 20169.  ,   296.  ,  1193.  ,   158.  ,   470.  ],\n",
       "       ...,\n",
       "       [ 6467.98, 23258.  ,   817.  ,   828.  ,   198.  ,   400.  ],\n",
       "       [ 6475.4 , 19464.  ,   823.  ,   827.  ,   199.  ,   380.  ],\n",
       "       [ 6482.39,  9604.  ,   829.  ,   827.  ,   199.  ,   380.  ]])"
      ]
     },
     "execution_count": 507,
     "metadata": {},
     "output_type": "execute_result"
    }
   ],
   "source": [
    "df4"
   ]
  },
  {
   "cell_type": "code",
   "execution_count": 508,
   "id": "cf711733",
   "metadata": {},
   "outputs": [],
   "source": [
    "path5 = 'C:/Users/Sohan/Desktop/Thesis/data for handwritting recognation/Dr. Nasima Begum/Data/Akash/2019_5_7_15_30_42'\n",
    "all_files5 = glob.glob(path5+\"/*.csv\")"
   ]
  },
  {
   "cell_type": "code",
   "execution_count": 509,
   "id": "e66ff4f5",
   "metadata": {},
   "outputs": [
    {
     "data": {
      "text/plain": [
       "['C:/Users/Sohan/Desktop/Thesis/data for handwritting recognation/Dr. Nasima Begum/Data/Akash/2019_5_7_15_30_42\\\\01_HelloWorld.csv',\n",
       " 'C:/Users/Sohan/Desktop/Thesis/data for handwritting recognation/Dr. Nasima Begum/Data/Akash/2019_5_7_15_30_42\\\\02_Japan.csv',\n",
       " 'C:/Users/Sohan/Desktop/Thesis/data for handwritting recognation/Dr. Nasima Begum/Data/Akash/2019_5_7_15_30_42\\\\03_Tokyo.csv',\n",
       " 'C:/Users/Sohan/Desktop/Thesis/data for handwritting recognation/Dr. Nasima Begum/Data/Akash/2019_5_7_15_30_42\\\\04_Fukushima.csv',\n",
       " 'C:/Users/Sohan/Desktop/Thesis/data for handwritting recognation/Dr. Nasima Begum/Data/Akash/2019_5_7_15_30_42\\\\05_AizuUniversity.csv',\n",
       " 'C:/Users/Sohan/Desktop/Thesis/data for handwritting recognation/Dr. Nasima Begum/Data/Akash/2019_5_7_15_30_42\\\\06_BasicResearch.csv',\n",
       " 'C:/Users/Sohan/Desktop/Thesis/data for handwritting recognation/Dr. Nasima Begum/Data/Akash/2019_5_7_15_30_42\\\\07_ComputerVision.csv',\n",
       " 'C:/Users/Sohan/Desktop/Thesis/data for handwritting recognation/Dr. Nasima Begum/Data/Akash/2019_5_7_15_30_42\\\\08_PatternProcessing.csv',\n",
       " 'C:/Users/Sohan/Desktop/Thesis/data for handwritting recognation/Dr. Nasima Begum/Data/Akash/2019_5_7_15_30_42\\\\09_MachineLearning.csv',\n",
       " 'C:/Users/Sohan/Desktop/Thesis/data for handwritting recognation/Dr. Nasima Begum/Data/Akash/2019_5_7_15_30_42\\\\10_ThankYou.csv']"
      ]
     },
     "execution_count": 509,
     "metadata": {},
     "output_type": "execute_result"
    }
   ],
   "source": [
    "all_files5"
   ]
  },
  {
   "cell_type": "code",
   "execution_count": 510,
   "id": "4c244ee9",
   "metadata": {},
   "outputs": [],
   "source": [
    "li5=[]"
   ]
  },
  {
   "cell_type": "code",
   "execution_count": 511,
   "id": "3fe74197",
   "metadata": {},
   "outputs": [],
   "source": [
    "for filename5 in all_files5:\n",
    "    df5=pd.read_csv(filename5 , index_col=None,header=0)\n",
    "    li5.append(df5)"
   ]
  },
  {
   "cell_type": "code",
   "execution_count": 512,
   "id": "ed6785c8",
   "metadata": {},
   "outputs": [],
   "source": [
    "df5=np.vstack((li5))"
   ]
  },
  {
   "cell_type": "code",
   "execution_count": 513,
   "id": "4332e761",
   "metadata": {},
   "outputs": [
    {
     "data": {
      "text/plain": [
       "array([[ 2507.46, 20489.  ,   215.  ,  1002.  ,   169.  ,   470.  ],\n",
       "       [ 2515.44, 19721.  ,   215.  ,  1002.  ,   169.  ,   460.  ],\n",
       "       [ 2523.44, 19769.  ,   215.  ,  1002.  ,   170.  ,   470.  ],\n",
       "       ...,\n",
       "       [ 5501.54, 24203.  ,   862.  ,   959.  ,   196.  ,   450.  ],\n",
       "       [ 5509.54, 20681.  ,   872.  ,   960.  ,   197.  ,   450.  ],\n",
       "       [ 5517.53, 10052.  ,   881.  ,   962.  ,   198.  ,   450.  ]])"
      ]
     },
     "execution_count": 513,
     "metadata": {},
     "output_type": "execute_result"
    }
   ],
   "source": [
    "df5"
   ]
  },
  {
   "cell_type": "code",
   "execution_count": 514,
   "id": "9dba32c9",
   "metadata": {},
   "outputs": [],
   "source": [
    "df=np.vstack((df1,df2,df3,df4,df5))"
   ]
  },
  {
   "cell_type": "code",
   "execution_count": 515,
   "id": "53747c18",
   "metadata": {},
   "outputs": [
    {
     "data": {
      "text/plain": [
       "array([[ 3384.91, 18184.  ,   275.  ,  1225.  ,   155.  ,   410.  ],\n",
       "       [ 3392.91, 18312.  ,   275.  ,  1225.  ,   156.  ,   410.  ],\n",
       "       [ 3399.97, 18984.  ,   275.  ,  1225.  ,   156.  ,   420.  ],\n",
       "       ...,\n",
       "       [ 5501.54, 24203.  ,   862.  ,   959.  ,   196.  ,   450.  ],\n",
       "       [ 5509.54, 20681.  ,   872.  ,   960.  ,   197.  ,   450.  ],\n",
       "       [ 5517.53, 10052.  ,   881.  ,   962.  ,   198.  ,   450.  ]])"
      ]
     },
     "execution_count": 515,
     "metadata": {},
     "output_type": "execute_result"
    }
   ],
   "source": [
    "df"
   ]
  },
  {
   "cell_type": "code",
   "execution_count": 516,
   "id": "b9ac644b",
   "metadata": {},
   "outputs": [
    {
     "data": {
      "text/plain": [
       "(29396, 6)"
      ]
     },
     "execution_count": 516,
     "metadata": {},
     "output_type": "execute_result"
    }
   ],
   "source": [
    "df.shape"
   ]
  },
  {
   "cell_type": "code",
   "execution_count": 517,
   "id": "b9abd5c1",
   "metadata": {},
   "outputs": [],
   "source": [
    "df_y = np.zeros(29396).T"
   ]
  },
  {
   "cell_type": "code",
   "execution_count": 518,
   "id": "1ba980b2",
   "metadata": {},
   "outputs": [],
   "source": [
    "df_y = df_y.reshape(29396, 1)"
   ]
  },
  {
   "cell_type": "code",
   "execution_count": 519,
   "id": "96cc1137",
   "metadata": {},
   "outputs": [
    {
     "data": {
      "text/plain": [
       "(29396, 1)"
      ]
     },
     "execution_count": 519,
     "metadata": {},
     "output_type": "execute_result"
    }
   ],
   "source": [
    "df_y.shape"
   ]
  },
  {
   "cell_type": "code",
   "execution_count": 520,
   "id": "8f89f8c8",
   "metadata": {},
   "outputs": [],
   "source": [
    "akash_data = np.append(df, df_y, axis=1)"
   ]
  },
  {
   "cell_type": "code",
   "execution_count": 521,
   "id": "530feab4",
   "metadata": {},
   "outputs": [
    {
     "data": {
      "text/plain": [
       "(29396, 7)"
      ]
     },
     "execution_count": 521,
     "metadata": {},
     "output_type": "execute_result"
    }
   ],
   "source": [
    "akash_data.shape"
   ]
  },
  {
   "cell_type": "code",
   "execution_count": 522,
   "id": "a4fd87c5",
   "metadata": {},
   "outputs": [
    {
     "data": {
      "text/plain": [
       "array([[ 3384.91, 18184.  ,   275.  , ...,   155.  ,   410.  ,     0.  ],\n",
       "       [ 3392.91, 18312.  ,   275.  , ...,   156.  ,   410.  ,     0.  ],\n",
       "       [ 3399.97, 18984.  ,   275.  , ...,   156.  ,   420.  ,     0.  ],\n",
       "       ...,\n",
       "       [ 5501.54, 24203.  ,   862.  , ...,   196.  ,   450.  ,     0.  ],\n",
       "       [ 5509.54, 20681.  ,   872.  , ...,   197.  ,   450.  ,     0.  ],\n",
       "       [ 5517.53, 10052.  ,   881.  , ...,   198.  ,   450.  ,     0.  ]])"
      ]
     },
     "execution_count": 522,
     "metadata": {},
     "output_type": "execute_result"
    }
   ],
   "source": [
    "akash_data"
   ]
  },
  {
   "cell_type": "code",
   "execution_count": 523,
   "id": "bc747ebc",
   "metadata": {},
   "outputs": [],
   "source": [
    "akash_data_df = pd.DataFrame(akash_data, columns = ['Time',' Pen_prassure','X_Axis','Y_Axis','Horaizontal_Angle','Verticle_Angle','output'])"
   ]
  },
  {
   "cell_type": "code",
   "execution_count": 524,
   "id": "78aa852b",
   "metadata": {},
   "outputs": [
    {
     "name": "stderr",
     "output_type": "stream",
     "text": [
      "No artists with labels found to put in legend.  Note that artists whose label start with an underscore are ignored when legend() is called with no argument.\n"
     ]
    },
    {
     "data": {
      "image/png": "[encoded data removed]",
      "text/plain": [
       "<Figure size 432x288 with 1 Axes>"
      ]
     },
     "metadata": {
      "needs_background": "light"
     },
     "output_type": "display_data"
    },
    {
     "name": "stderr",
     "output_type": "stream",
     "text": [
      "No artists with labels found to put in legend.  Note that artists whose label start with an underscore are ignored when legend() is called with no argument.\n"
     ]
    },
    {
     "data": {
      "image/png": "[encoded data removed]",
      "text/plain": [
       "<Figure size 432x288 with 1 Axes>"
      ]
     },
     "metadata": {
      "needs_background": "light"
     },
     "output_type": "display_data"
    },
    {
     "name": "stderr",
     "output_type": "stream",
     "text": [
      "No artists with labels found to put in legend.  Note that artists whose label start with an underscore are ignored when legend() is called with no argument.\n"
     ]
    },
    {
     "data": {
      "image/png": "[encoded data removed]",
      "text/plain": [
       "<Figure size 432x288 with 1 Axes>"
      ]
     },
     "metadata": {
      "needs_background": "light"
     },
     "output_type": "display_data"
    },
    {
     "name": "stderr",
     "output_type": "stream",
     "text": [
      "No artists with labels found to put in legend.  Note that artists whose label start with an underscore are ignored when legend() is called with no argument.\n"
     ]
    },
    {
     "data": {
      "image/png": "[encoded data removed]",
      "text/plain": [
       "<Figure size 432x288 with 1 Axes>"
      ]
     },
     "metadata": {
      "needs_background": "light"
     },
     "output_type": "display_data"
    },
    {
     "name": "stderr",
     "output_type": "stream",
     "text": [
      "No artists with labels found to put in legend.  Note that artists whose label start with an underscore are ignored when legend() is called with no argument.\n"
     ]
    },
    {
     "data": {
      "image/png": "[encoded data removed]",
      "text/plain": [
       "<Figure size 432x288 with 1 Axes>"
      ]
     },
     "metadata": {
      "needs_background": "light"
     },
     "output_type": "display_data"
    },
    {
     "name": "stderr",
     "output_type": "stream",
     "text": [
      "No artists with labels found to put in legend.  Note that artists whose label start with an underscore are ignored when legend() is called with no argument.\n"
     ]
    },
    {
     "data": {
      "image/png": "[encoded data removed]",
      "text/plain": [
       "<Figure size 432x288 with 1 Axes>"
      ]
     },
     "metadata": {
      "needs_background": "light"
     },
     "output_type": "display_data"
    }
   ],
   "source": [
    "for i in range(len(akash_data_df.columns[:-1])):\n",
    "  label = akash_data_df.columns[i]\n",
    "  plt.hist(akash_data_df[akash_data_df['output']==0][label], color='red', alpha=0.7, density=True, bins=15)\n",
    "  plt.title(label)\n",
    "  plt.ylabel(\"Probability\")\n",
    "  plt.xlabel(label)\n",
    "  plt.legend()\n",
    "  plt.show()"
   ]
  },
  {
   "cell_type": "code",
   "execution_count": 525,
   "id": "495afcb9",
   "metadata": {},
   "outputs": [],
   "source": [
    "X= akash_data_df[akash_data_df.columns[:-1]].values\n",
    "Y= akash_data_df[akash_data_df.columns[-1]].values"
   ]
  },
  {
   "cell_type": "code",
   "execution_count": 526,
   "id": "fe196bf2",
   "metadata": {},
   "outputs": [],
   "source": [
    "scaler=StandardScaler()\n",
    "X=scaler.fit_transform(X)\n",
    "data=np.hstack((X,np.reshape(Y,(-1,1))))\n",
    "transformed_df=pd.DataFrame(data,columns=akash_data_df.columns)"
   ]
  },
  {
   "cell_type": "code",
   "execution_count": 527,
   "id": "65ceeafe",
   "metadata": {},
   "outputs": [],
   "source": [
    "x_train,x_temp,y_train,y_temp = train_test_split(X,Y,test_size=0.4,random_state=0)\n",
    "x_valid,x_test,y_valid,y_test = train_test_split(x_temp,y_temp,test_size=0.4,random_state=0)"
   ]
  },
  {
   "cell_type": "code",
   "execution_count": 528,
   "id": "e905eae0",
   "metadata": {},
   "outputs": [],
   "source": [
    "model = tf.keras.Sequential([tf.keras.layers.Dense(16,activation='relu'),\n",
    "                            tf.keras.layers.Dense(16,activation='relu'),\n",
    "                            tf.keras.layers.Dense(1,activation=\"sigmoid\")])"
   ]
  },
  {
   "cell_type": "code",
   "execution_count": 529,
   "id": "b3ff3bca",
   "metadata": {},
   "outputs": [],
   "source": [
    "model.compile(optimizer=tf.keras.optimizers.Adam(learning_rate=0.001),\n",
    "              loss=tf.keras.losses.BinaryCrossentropy(),\n",
    "              metrics=['accuracy']\n",
    "             )"
   ]
  },
  {
   "cell_type": "code",
   "execution_count": 530,
   "id": "22ca79ad",
   "metadata": {},
   "outputs": [
    {
     "name": "stdout",
     "output_type": "stream",
     "text": [
      "Epoch 1/20\n",
      "1103/1103 [==============================] - 4s 3ms/step - loss: 0.0358 - accuracy: 0.9969 - val_loss: 5.2610e-04 - val_accuracy: 1.0000\n",
      "Epoch 2/20\n",
      "1103/1103 [==============================] - 3s 3ms/step - loss: 2.4048e-04 - accuracy: 1.0000 - val_loss: 1.0668e-04 - val_accuracy: 1.0000\n",
      "Epoch 3/20\n",
      "1103/1103 [==============================] - 3s 2ms/step - loss: 6.4041e-05 - accuracy: 1.0000 - val_loss: 3.7592e-05 - val_accuracy: 1.0000\n",
      "Epoch 4/20\n",
      "1103/1103 [==============================] - 3s 2ms/step - loss: 2.4855e-05 - accuracy: 1.0000 - val_loss: 1.6110e-05 - val_accuracy: 1.0000\n",
      "Epoch 5/20\n",
      "1103/1103 [==============================] - 3s 2ms/step - loss: 1.1194e-05 - accuracy: 1.0000 - val_loss: 7.6157e-06 - val_accuracy: 1.0000\n",
      "Epoch 6/20\n",
      "1103/1103 [==============================] - 3s 3ms/step - loss: 5.4275e-06 - accuracy: 1.0000 - val_loss: 3.7776e-06 - val_accuracy: 1.0000\n",
      "Epoch 7/20\n",
      "1103/1103 [==============================] - 3s 3ms/step - loss: 2.7216e-06 - accuracy: 1.0000 - val_loss: 1.9153e-06 - val_accuracy: 1.0000\n",
      "Epoch 8/20\n",
      "1103/1103 [==============================] - 3s 3ms/step - loss: 1.3977e-06 - accuracy: 1.0000 - val_loss: 9.9370e-07 - val_accuracy: 1.0000\n",
      "Epoch 9/20\n",
      "1103/1103 [==============================] - 3s 3ms/step - loss: 7.2948e-07 - accuracy: 1.0000 - val_loss: 5.2158e-07 - val_accuracy: 1.0000\n",
      "Epoch 10/20\n",
      "1103/1103 [==============================] - 3s 3ms/step - loss: 3.8509e-07 - accuracy: 1.0000 - val_loss: 2.7664e-07 - val_accuracy: 1.0000\n",
      "Epoch 11/20\n",
      "1103/1103 [==============================] - 3s 3ms/step - loss: 2.0507e-07 - accuracy: 1.0000 - val_loss: 1.4756e-07 - val_accuracy: 1.0000\n",
      "Epoch 12/20\n",
      "1103/1103 [==============================] - 3s 3ms/step - loss: 1.0981e-07 - accuracy: 1.0000 - val_loss: 7.9432e-08 - val_accuracy: 1.0000\n",
      "Epoch 13/20\n",
      "1103/1103 [==============================] - 3s 3ms/step - loss: 5.9108e-08 - accuracy: 1.0000 - val_loss: 4.2899e-08 - val_accuracy: 1.0000\n",
      "Epoch 14/20\n",
      "1103/1103 [==============================] - 3s 3ms/step - loss: 3.2019e-08 - accuracy: 1.0000 - val_loss: 2.3327e-08 - val_accuracy: 1.0000\n",
      "Epoch 15/20\n",
      "1103/1103 [==============================] - 3s 3ms/step - loss: 1.7530e-08 - accuracy: 1.0000 - val_loss: 1.2857e-08 - val_accuracy: 1.0000\n",
      "Epoch 16/20\n",
      "1103/1103 [==============================] - 3s 3ms/step - loss: 9.6767e-09 - accuracy: 1.0000 - val_loss: 7.1297e-09 - val_accuracy: 1.0000\n",
      "Epoch 17/20\n",
      "1103/1103 [==============================] - 3s 3ms/step - loss: 5.4184e-09 - accuracy: 1.0000 - val_loss: 4.0378e-09 - val_accuracy: 1.0000\n",
      "Epoch 18/20\n",
      "1103/1103 [==============================] - 3s 3ms/step - loss: 3.0991e-09 - accuracy: 1.0000 - val_loss: 2.3427e-09 - val_accuracy: 1.0000\n",
      "Epoch 19/20\n",
      "1103/1103 [==============================] - 3s 3ms/step - loss: 1.8205e-09 - accuracy: 1.0000 - val_loss: 1.3936e-09 - val_accuracy: 1.0000\n",
      "Epoch 20/20\n",
      "1103/1103 [==============================] - 3s 3ms/step - loss: 1.0988e-09 - accuracy: 1.0000 - val_loss: 8.5546e-10 - val_accuracy: 1.0000\n"
     ]
    },
    {
     "data": {
      "text/plain": [
       "<keras.callbacks.History at 0x179c9de26a0>"
      ]
     },
     "execution_count": 530,
     "metadata": {},
     "output_type": "execute_result"
    }
   ],
   "source": [
    "model.fit(x_train,y_train,batch_size=16,epochs=20,validation_data=(x_valid,y_valid))"
   ]
  },
  {
   "cell_type": "code",
   "execution_count": 531,
   "id": "934ad081",
   "metadata": {},
   "outputs": [
    {
     "name": "stdout",
     "output_type": "stream",
     "text": [
      "552/552 [==============================] - 1s 2ms/step - loss: 8.5435e-10 - accuracy: 1.0000\n"
     ]
    },
    {
     "data": {
      "text/plain": [
       "[8.543458718257568e-10, 1.0]"
      ]
     },
     "execution_count": 531,
     "metadata": {},
     "output_type": "execute_result"
    }
   ],
   "source": [
    "model.evaluate(x_train,y_train)"
   ]
  },
  {
   "cell_type": "code",
   "execution_count": 532,
   "id": "282691b5",
   "metadata": {},
   "outputs": [
    {
     "name": "stdout",
     "output_type": "stream",
     "text": [
      "147/147 [==============================] - 0s 2ms/step - loss: 9.6388e-10 - accuracy: 1.0000\n"
     ]
    }
   ],
   "source": [
    "loss, accuracy = model.evaluate(x_test,y_test)"
   ]
  },
  {
   "cell_type": "code",
   "execution_count": 533,
   "id": "4014b978",
   "metadata": {},
   "outputs": [
    {
     "name": "stdout",
     "output_type": "stream",
     "text": [
      "147/147 [==============================] - 0s 1ms/step\n"
     ]
    }
   ],
   "source": [
    "pred_labels = model.predict(x_test)"
   ]
  },
  {
   "cell_type": "code",
   "execution_count": 534,
   "id": "1e9b76d2",
   "metadata": {},
   "outputs": [
    {
     "data": {
      "text/plain": [
       "array([2.0441568e-14], dtype=float32)"
      ]
     },
     "execution_count": 534,
     "metadata": {},
     "output_type": "execute_result"
    }
   ],
   "source": [
    "pred_labels[2]"
   ]
  },
  {
   "cell_type": "code",
   "execution_count": 535,
   "id": "77c34ac0",
   "metadata": {},
   "outputs": [
    {
     "data": {
      "text/plain": [
       "0"
      ]
     },
     "execution_count": 535,
     "metadata": {},
     "output_type": "execute_result"
    }
   ],
   "source": [
    "np.argmax(pred_labels[88])"
   ]
  },
  {
   "cell_type": "code",
   "execution_count": 536,
   "id": "18096064",
   "metadata": {},
   "outputs": [
    {
     "name": "stdout",
     "output_type": "stream",
     "text": [
      "Model Accuracy for Akash 100.00%\n"
     ]
    }
   ],
   "source": [
    "print(\"Model Accuracy for Akash %.2f%%\" %(accuracy * 100))"
   ]
  },
  {
   "cell_type": "code",
   "execution_count": null,
   "id": "7681f1f5",
   "metadata": {},
   "outputs": [],
   "source": []
  }
 ],
 "metadata": {
  "kernelspec": {
   "display_name": "Python 3 (ipykernel)",
   "language": "python",
   "name": "python3"
  },
  "language_info": {
   "codemirror_mode": {
    "name": "ipython",
    "version": 3
   },
   "file_extension": ".py",
   "mimetype": "text/x-python",
   "name": "python",
   "nbconvert_exporter": "python",
   "pygments_lexer": "ipython3",
   "version": "3.9.12"
  }
 },
 "nbformat": 4,
 "nbformat_minor": 5
}
